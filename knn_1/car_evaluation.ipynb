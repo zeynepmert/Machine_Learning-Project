{
 "cells": [
  {
   "cell_type": "markdown",
   "id": "696f1325",
   "metadata": {},
   "source": [
    "## Car Evaluation"
   ]
  },
  {
   "cell_type": "markdown",
   "id": "9d3be5ad",
   "metadata": {},
   "source": [
    "#### Importing Packages"
   ]
  },
  {
   "cell_type": "markdown",
   "id": "2d064191",
   "metadata": {},
   "source": [
    "#### The data in this project was obtained from Kaggle."
   ]
  },
  {
   "cell_type": "code",
   "execution_count": 137,
   "id": "55d46f75",
   "metadata": {},
   "outputs": [],
   "source": [
    "import pandas as pd\n",
    "import matplotlib.pyplot as plt\n",
    "import numpy as np\n",
    "from sklearn.model_selection import train_test_split\n",
    "from sklearn.neighbors import KNeighborsClassifier\n",
    "from sklearn.preprocessing import LabelEncoder\n"
   ]
  },
  {
   "cell_type": "code",
   "execution_count": 138,
   "id": "bfd39ead",
   "metadata": {},
   "outputs": [
    {
     "data": {
      "text/html": [
       "<div>\n",
       "<style scoped>\n",
       "    .dataframe tbody tr th:only-of-type {\n",
       "        vertical-align: middle;\n",
       "    }\n",
       "\n",
       "    .dataframe tbody tr th {\n",
       "        vertical-align: top;\n",
       "    }\n",
       "\n",
       "    .dataframe thead th {\n",
       "        text-align: right;\n",
       "    }\n",
       "</style>\n",
       "<table border=\"1\" class=\"dataframe\">\n",
       "  <thead>\n",
       "    <tr style=\"text-align: right;\">\n",
       "      <th></th>\n",
       "      <th>buying_price</th>\n",
       "      <th>maintenance_cost</th>\n",
       "      <th>number_of_doors</th>\n",
       "      <th>number_of_persons</th>\n",
       "      <th>lug_boot</th>\n",
       "      <th>safety</th>\n",
       "      <th>decision</th>\n",
       "    </tr>\n",
       "  </thead>\n",
       "  <tbody>\n",
       "    <tr>\n",
       "      <th>0</th>\n",
       "      <td>vhigh</td>\n",
       "      <td>vhigh</td>\n",
       "      <td>2</td>\n",
       "      <td>2</td>\n",
       "      <td>small</td>\n",
       "      <td>low</td>\n",
       "      <td>unacc</td>\n",
       "    </tr>\n",
       "    <tr>\n",
       "      <th>1</th>\n",
       "      <td>vhigh</td>\n",
       "      <td>vhigh</td>\n",
       "      <td>2</td>\n",
       "      <td>2</td>\n",
       "      <td>small</td>\n",
       "      <td>med</td>\n",
       "      <td>unacc</td>\n",
       "    </tr>\n",
       "    <tr>\n",
       "      <th>2</th>\n",
       "      <td>vhigh</td>\n",
       "      <td>vhigh</td>\n",
       "      <td>2</td>\n",
       "      <td>2</td>\n",
       "      <td>small</td>\n",
       "      <td>high</td>\n",
       "      <td>unacc</td>\n",
       "    </tr>\n",
       "    <tr>\n",
       "      <th>3</th>\n",
       "      <td>vhigh</td>\n",
       "      <td>vhigh</td>\n",
       "      <td>2</td>\n",
       "      <td>2</td>\n",
       "      <td>med</td>\n",
       "      <td>low</td>\n",
       "      <td>unacc</td>\n",
       "    </tr>\n",
       "    <tr>\n",
       "      <th>4</th>\n",
       "      <td>vhigh</td>\n",
       "      <td>vhigh</td>\n",
       "      <td>2</td>\n",
       "      <td>2</td>\n",
       "      <td>med</td>\n",
       "      <td>med</td>\n",
       "      <td>unacc</td>\n",
       "    </tr>\n",
       "  </tbody>\n",
       "</table>\n",
       "</div>"
      ],
      "text/plain": [
       "  buying_price maintenance_cost number_of_doors number_of_persons lug_boot  \\\n",
       "0        vhigh            vhigh               2                 2    small   \n",
       "1        vhigh            vhigh               2                 2    small   \n",
       "2        vhigh            vhigh               2                 2    small   \n",
       "3        vhigh            vhigh               2                 2      med   \n",
       "4        vhigh            vhigh               2                 2      med   \n",
       "\n",
       "  safety decision  \n",
       "0    low    unacc  \n",
       "1    med    unacc  \n",
       "2   high    unacc  \n",
       "3    low    unacc  \n",
       "4    med    unacc  "
      ]
     },
     "execution_count": 138,
     "metadata": {},
     "output_type": "execute_result"
    }
   ],
   "source": [
    "data = pd.read_csv(\"car_evaluation.csv\")\n",
    "data.head()"
   ]
  },
  {
   "cell_type": "code",
   "execution_count": 139,
   "id": "3d16d1dd",
   "metadata": {},
   "outputs": [],
   "source": [
    "df = pd.DataFrame(data)"
   ]
  },
  {
   "cell_type": "markdown",
   "id": "80414c6b",
   "metadata": {},
   "source": [
    "###### I converted some of our data to numerical data type because a portion of it was of object type. I used Label Encoding for this purpose because the categories I wanted to convert indicated an order"
   ]
  },
  {
   "cell_type": "code",
   "execution_count": 140,
   "id": "e1100cb6",
   "metadata": {},
   "outputs": [
    {
     "name": "stdout",
     "output_type": "stream",
     "text": [
      "[3 3 3 ... 1 1 1]\n"
     ]
    }
   ],
   "source": [
    "encoder = LabelEncoder()\n",
    "encoded_data = encoder.fit_transform(data['buying_price'])\n",
    "\n",
    "\n",
    "print(encoded_data)"
   ]
  },
  {
   "cell_type": "code",
   "execution_count": 141,
   "id": "57c0d9cf",
   "metadata": {},
   "outputs": [
    {
     "name": "stdout",
     "output_type": "stream",
     "text": [
      "[3 3 3 ... 1 1 1]\n"
     ]
    }
   ],
   "source": [
    "encoder = LabelEncoder()\n",
    "encoded_data = encoder.fit_transform(data['maintenance_cost'])\n",
    "\n",
    "\n",
    "print(encoded_data)"
   ]
  },
  {
   "cell_type": "code",
   "execution_count": 142,
   "id": "6907c9e1",
   "metadata": {},
   "outputs": [
    {
     "name": "stdout",
     "output_type": "stream",
     "text": [
      "[0 0 0 ... 3 3 3]\n"
     ]
    }
   ],
   "source": [
    "encoder = LabelEncoder()\n",
    "encoded_data = encoder.fit_transform(data['number_of_doors'])\n",
    "\n",
    "print(encoded_data)"
   ]
  },
  {
   "cell_type": "code",
   "execution_count": 143,
   "id": "112d40cf",
   "metadata": {},
   "outputs": [
    {
     "name": "stdout",
     "output_type": "stream",
     "text": [
      "[0 0 0 ... 2 2 2]\n"
     ]
    }
   ],
   "source": [
    "encoder = LabelEncoder()\n",
    "encoded_data = encoder.fit_transform(data['number_of_persons'])\n",
    "\n",
    "print(encoded_data)"
   ]
  },
  {
   "cell_type": "code",
   "execution_count": 144,
   "id": "2b78ca3c",
   "metadata": {},
   "outputs": [
    {
     "name": "stdout",
     "output_type": "stream",
     "text": [
      "[1 2 0 ... 1 2 0]\n"
     ]
    }
   ],
   "source": [
    "encoder = LabelEncoder()\n",
    "encoded_data = encoder.fit_transform(data['safety'])\n",
    "\n",
    "\n",
    "print(encoded_data)"
   ]
  },
  {
   "cell_type": "code",
   "execution_count": 145,
   "id": "768399ce",
   "metadata": {},
   "outputs": [
    {
     "name": "stdout",
     "output_type": "stream",
     "text": [
      "[2 2 2 ... 0 0 0]\n"
     ]
    }
   ],
   "source": [
    "encoder = LabelEncoder()\n",
    "encoded_data = encoder.fit_transform(data['lug_boot'])\n",
    "\n",
    "\n",
    "print(encoded_data)"
   ]
  },
  {
   "cell_type": "code",
   "execution_count": 146,
   "id": "f90c1159",
   "metadata": {},
   "outputs": [
    {
     "name": "stdout",
     "output_type": "stream",
     "text": [
      "[2 2 2 ... 2 1 3]\n"
     ]
    }
   ],
   "source": [
    "encoder = LabelEncoder()\n",
    "encoded_data = encoder.fit_transform(data['decision'])\n",
    "\n",
    "\n",
    "print(encoded_data)"
   ]
  },
  {
   "cell_type": "code",
   "execution_count": 147,
   "id": "b90443ff",
   "metadata": {},
   "outputs": [],
   "source": [
    "encoded_buying_price = encoder.fit_transform(data['buying_price'])\n",
    "encoded_maintenance_cost = encoder.fit_transform(data['maintenance_cost'])\n",
    "encoded_number_of_doors = encoder.fit_transform(data['number_of_doors'])\n",
    "encoded_number_of_persons = encoder.fit_transform(data['number_of_persons'])\n",
    "encoded_lug_boot = encoder.fit_transform(data['lug_boot'])\n",
    "encoded_safety = encoder.fit_transform(data['safety'])\n",
    "encoded_decision = encoder.fit_transform(data['decision'])"
   ]
  },
  {
   "cell_type": "code",
   "execution_count": 148,
   "id": "4a2f4137",
   "metadata": {},
   "outputs": [],
   "source": [
    "#Adding the transformed data to a new DataFrame.\n",
    "encoded_data = pd.DataFrame({\n",
    "    'buying_price_encoded': encoded_buying_price,\n",
    "    'maintenance_cost_encoded': encoded_maintenance_cost,\n",
    "    'number_of_doors': encoded_number_of_doors,\n",
    "    'number_of_persons': encoded_number_of_persons,\n",
    "    'lug_boot': encoded_lug_boot,\n",
    "    'safety_encoded': encoded_safety,\n",
    "    'decision_encoded': encoded_decision\n",
    "})   "
   ]
  },
  {
   "cell_type": "code",
   "execution_count": 149,
   "id": "f013d783",
   "metadata": {},
   "outputs": [
    {
     "name": "stdout",
     "output_type": "stream",
     "text": [
      "      buying_price_encoded  maintenance_cost_encoded  number_of_doors  \\\n",
      "0                        3                         3                0   \n",
      "1                        3                         3                0   \n",
      "2                        3                         3                0   \n",
      "3                        3                         3                0   \n",
      "4                        3                         3                0   \n",
      "...                    ...                       ...              ...   \n",
      "1723                     1                         1                3   \n",
      "1724                     1                         1                3   \n",
      "1725                     1                         1                3   \n",
      "1726                     1                         1                3   \n",
      "1727                     1                         1                3   \n",
      "\n",
      "      number_of_persons  lug_boot  safety_encoded  decision_encoded  \n",
      "0                     0         2               1                 2  \n",
      "1                     0         2               2                 2  \n",
      "2                     0         2               0                 2  \n",
      "3                     0         1               1                 2  \n",
      "4                     0         1               2                 2  \n",
      "...                 ...       ...             ...               ...  \n",
      "1723                  2         1               2                 1  \n",
      "1724                  2         1               0                 3  \n",
      "1725                  2         0               1                 2  \n",
      "1726                  2         0               2                 1  \n",
      "1727                  2         0               0                 3  \n",
      "\n",
      "[1728 rows x 7 columns]\n"
     ]
    }
   ],
   "source": [
    "final_data = pd.concat([encoded_data], axis = 1)\n",
    "print(final_data)"
   ]
  },
  {
   "cell_type": "code",
   "execution_count": 150,
   "id": "a0960455",
   "metadata": {
    "scrolled": true
   },
   "outputs": [
    {
     "data": {
      "text/html": [
       "<div>\n",
       "<style scoped>\n",
       "    .dataframe tbody tr th:only-of-type {\n",
       "        vertical-align: middle;\n",
       "    }\n",
       "\n",
       "    .dataframe tbody tr th {\n",
       "        vertical-align: top;\n",
       "    }\n",
       "\n",
       "    .dataframe thead th {\n",
       "        text-align: right;\n",
       "    }\n",
       "</style>\n",
       "<table border=\"1\" class=\"dataframe\">\n",
       "  <thead>\n",
       "    <tr style=\"text-align: right;\">\n",
       "      <th></th>\n",
       "      <th>buying_price_encoded</th>\n",
       "      <th>maintenance_cost_encoded</th>\n",
       "      <th>number_of_doors</th>\n",
       "      <th>number_of_persons</th>\n",
       "      <th>lug_boot</th>\n",
       "      <th>safety_encoded</th>\n",
       "    </tr>\n",
       "  </thead>\n",
       "  <tbody>\n",
       "    <tr>\n",
       "      <th>0</th>\n",
       "      <td>1.0</td>\n",
       "      <td>1.0</td>\n",
       "      <td>0.0</td>\n",
       "      <td>0.0</td>\n",
       "      <td>1.0</td>\n",
       "      <td>0.5</td>\n",
       "    </tr>\n",
       "    <tr>\n",
       "      <th>1</th>\n",
       "      <td>1.0</td>\n",
       "      <td>1.0</td>\n",
       "      <td>0.0</td>\n",
       "      <td>0.0</td>\n",
       "      <td>1.0</td>\n",
       "      <td>1.0</td>\n",
       "    </tr>\n",
       "    <tr>\n",
       "      <th>2</th>\n",
       "      <td>1.0</td>\n",
       "      <td>1.0</td>\n",
       "      <td>0.0</td>\n",
       "      <td>0.0</td>\n",
       "      <td>1.0</td>\n",
       "      <td>0.0</td>\n",
       "    </tr>\n",
       "    <tr>\n",
       "      <th>3</th>\n",
       "      <td>1.0</td>\n",
       "      <td>1.0</td>\n",
       "      <td>0.0</td>\n",
       "      <td>0.0</td>\n",
       "      <td>0.5</td>\n",
       "      <td>0.5</td>\n",
       "    </tr>\n",
       "    <tr>\n",
       "      <th>4</th>\n",
       "      <td>1.0</td>\n",
       "      <td>1.0</td>\n",
       "      <td>0.0</td>\n",
       "      <td>0.0</td>\n",
       "      <td>0.5</td>\n",
       "      <td>1.0</td>\n",
       "    </tr>\n",
       "  </tbody>\n",
       "</table>\n",
       "</div>"
      ],
      "text/plain": [
       "   buying_price_encoded  maintenance_cost_encoded  number_of_doors  \\\n",
       "0                   1.0                       1.0              0.0   \n",
       "1                   1.0                       1.0              0.0   \n",
       "2                   1.0                       1.0              0.0   \n",
       "3                   1.0                       1.0              0.0   \n",
       "4                   1.0                       1.0              0.0   \n",
       "\n",
       "   number_of_persons  lug_boot  safety_encoded  \n",
       "0                0.0       1.0             0.5  \n",
       "1                0.0       1.0             1.0  \n",
       "2                0.0       1.0             0.0  \n",
       "3                0.0       0.5             0.5  \n",
       "4                0.0       0.5             1.0  "
      ]
     },
     "execution_count": 150,
     "metadata": {},
     "output_type": "execute_result"
    }
   ],
   "source": [
    "y = final_data.decision_encoded.values\n",
    "x_raw_data = final_data.drop([\"decision_encoded\"], axis =1) \n",
    "#I eliminated dependent variables\n",
    "\n",
    "x.head()"
   ]
  },
  {
   "cell_type": "markdown",
   "id": "3a93caf0",
   "metadata": {},
   "source": [
    "#### normalization"
   ]
  },
  {
   "cell_type": "code",
   "execution_count": 151,
   "id": "57f53272",
   "metadata": {
    "scrolled": false
   },
   "outputs": [
    {
     "name": "stdout",
     "output_type": "stream",
     "text": [
      "Raw data before normalization:\n",
      "\n",
      "   buying_price_encoded  maintenance_cost_encoded  number_of_doors  \\\n",
      "0                     3                         3                0   \n",
      "1                     3                         3                0   \n",
      "2                     3                         3                0   \n",
      "3                     3                         3                0   \n",
      "4                     3                         3                0   \n",
      "\n",
      "   number_of_persons  lug_boot  safety_encoded  \n",
      "0                  0         2               1  \n",
      "1                  0         2               2  \n",
      "2                  0         2               0  \n",
      "3                  0         1               1  \n",
      "4                  0         1               2  \n",
      "Data for artificial intelligence training after normalization:\n",
      "\n",
      "   buying_price_encoded  maintenance_cost_encoded  number_of_doors  \\\n",
      "0                   1.0                       1.0              0.0   \n",
      "1                   1.0                       1.0              0.0   \n",
      "2                   1.0                       1.0              0.0   \n",
      "3                   1.0                       1.0              0.0   \n",
      "4                   1.0                       1.0              0.0   \n",
      "\n",
      "   number_of_persons  lug_boot  safety_encoded  \n",
      "0                0.0       1.0             0.5  \n",
      "1                0.0       1.0             1.0  \n",
      "2                0.0       1.0             0.0  \n",
      "3                0.0       0.5             0.5  \n",
      "4                0.0       0.5             1.0  \n"
     ]
    },
    {
     "name": "stderr",
     "output_type": "stream",
     "text": [
      "C:\\Users\\HP\\anaconda3\\lib\\site-packages\\numpy\\core\\fromnumeric.py:84: FutureWarning: In a future version, DataFrame.min(axis=None) will return a scalar min over the entire DataFrame. To retain the old behavior, use 'frame.min(axis=0)' or just 'frame.min()'\n",
      "  return reduction(axis=axis, out=out, **passkwargs)\n",
      "C:\\Users\\HP\\anaconda3\\lib\\site-packages\\numpy\\core\\fromnumeric.py:84: FutureWarning: In a future version, DataFrame.max(axis=None) will return a scalar max over the entire DataFrame. To retain the old behavior, use 'frame.max(axis=0)' or just 'frame.max()'\n",
      "  return reduction(axis=axis, out=out, **passkwargs)\n",
      "C:\\Users\\HP\\anaconda3\\lib\\site-packages\\numpy\\core\\fromnumeric.py:84: FutureWarning: In a future version, DataFrame.min(axis=None) will return a scalar min over the entire DataFrame. To retain the old behavior, use 'frame.min(axis=0)' or just 'frame.min()'\n",
      "  return reduction(axis=axis, out=out, **passkwargs)\n"
     ]
    }
   ],
   "source": [
    "x = (x_raw_data - np.min(x_raw_data)) / (np.max(x_raw_data) - np.min(x_raw_data))\n",
    "\n",
    "print(\"Raw data before normalization:\\n\")\n",
    "print(x_raw_data.head())\n",
    "\n",
    "print(\"Data for artificial intelligence training after normalization:\\n\")\n",
    "print(x.head())"
   ]
  },
  {
   "cell_type": "code",
   "execution_count": 152,
   "id": "579141fa",
   "metadata": {},
   "outputs": [],
   "source": [
    "x_train, x_test, y_train, y_test = train_test_split(x, y, test_size = 0.1, random_state = 1)"
   ]
  },
  {
   "cell_type": "code",
   "execution_count": 153,
   "id": "58cb60cd",
   "metadata": {},
   "outputs": [
    {
     "name": "stdout",
     "output_type": "stream",
     "text": [
      "1   Accuracy rate: % 89.01734104046243\n",
      "2   Accuracy rate: % 88.4393063583815\n",
      "3   Accuracy rate: % 93.64161849710982\n",
      "4   Accuracy rate: % 90.7514450867052\n",
      "5   Accuracy rate: % 90.7514450867052\n",
      "6   Accuracy rate: % 90.17341040462428\n",
      "7   Accuracy rate: % 91.90751445086705\n",
      "8   Accuracy rate: % 89.01734104046243\n",
      "9   Accuracy rate: % 91.90751445086705\n",
      "10   Accuracy rate: % 91.90751445086705\n",
      "11   Accuracy rate: % 92.48554913294798\n",
      "12   Accuracy rate: % 92.48554913294798\n",
      "13   Accuracy rate: % 92.48554913294798\n",
      "14   Accuracy rate: % 90.7514450867052\n"
     ]
    }
   ],
   "source": [
    "counter = 1 \n",
    "for k in range(1,15):\n",
    "    knn_new = KNeighborsClassifier(n_neighbors = k)\n",
    "    knn_new.fit(x_train, y_train)\n",
    "    print(counter, \" \", \"Accuracy rate: %\", knn_new.score(x_test, y_test)*100)\n",
    "    counter += 1"
   ]
  },
  {
   "cell_type": "code",
   "execution_count": 154,
   "id": "c1528a3b",
   "metadata": {},
   "outputs": [
    {
     "name": "stdout",
     "output_type": "stream",
     "text": [
      "For k = 3, the result of our validation test on the test data is 0.9364161849710982\n"
     ]
    }
   ],
   "source": [
    "knn = KNeighborsClassifier(n_neighbors = 3)\n",
    "knn.fit(x_train, y_train)\n",
    "prediction = knn.predict(x_test)\n",
    "print(\"For k = 3, the result of our validation test on the test data is\", knn.score(x_test, y_test))\n"
   ]
  },
  {
   "cell_type": "code",
   "execution_count": 158,
   "id": "9a6916a5",
   "metadata": {},
   "outputs": [
    {
     "name": "stderr",
     "output_type": "stream",
     "text": [
      "C:\\Users\\HP\\anaconda3\\lib\\site-packages\\sklearn\\base.py:420: UserWarning: X does not have valid feature names, but MinMaxScaler was fitted with feature names\n",
      "  warnings.warn(\n",
      "C:\\Users\\HP\\anaconda3\\lib\\site-packages\\sklearn\\base.py:420: UserWarning: X does not have valid feature names, but KNeighborsClassifier was fitted with feature names\n",
      "  warnings.warn(\n"
     ]
    },
    {
     "data": {
      "text/plain": [
       "2"
      ]
     },
     "execution_count": 158,
     "metadata": {},
     "output_type": "execute_result"
    }
   ],
   "source": [
    "# When I provide the data in the format '4,1,3,0,0,4', it returns a result.\n",
    "from sklearn.preprocessing import MinMaxScaler\n",
    "\n",
    "\n",
    "sc = MinMaxScaler()\n",
    "sc.fit_transform(x_ham_veri)\n",
    "\n",
    "new_prediction = knn.predict(sc.transform(np.array([[4,1, 3, 0, 0, 4]])))\n",
    "new_prediction[0]"
   ]
  },
  {
   "cell_type": "code",
   "execution_count": null,
   "id": "5d350742",
   "metadata": {},
   "outputs": [],
   "source": [
    "# I'm encountering an error at this step because the machine also needs to perform 'encoding' on the input data I provided. \n",
    "#I'm currently working on improving this stage\n",
    "\n",
    "from sklearn.preprocessing import MinMaxScaler\n",
    "\n",
    "sc = MinMaxScaler()\n",
    "sc.fit_transform(x_raw_data)\n",
    "\n",
    "\n",
    "new_prediction = pd.DataFrame({\n",
    "    'buying_price_encoded': ['vhigh'],\n",
    "    'maintenance_cost_encoded': ['high'],\n",
    "    'number_of_doors': [3],\n",
    "    'number_of_persons': ['more'],\n",
    "    'lug_boot': ['big'],\n",
    "    'safety_encoded':['low']\n",
    "})   \n",
    "\n",
    "encoded_new_prediction = encoder.transform(new_prediction['vhigh','high',3, 'more', 'big', 'low'])\n",
    "new_prediction = knn.predict(sc.transform(np.array([[vhigh, high, 3, more, big, low]])))\n",
    "\n",
    "print(predictions)"
   ]
  }
 ],
 "metadata": {
  "kernelspec": {
   "display_name": "Python 3 (ipykernel)",
   "language": "python",
   "name": "python3"
  },
  "language_info": {
   "codemirror_mode": {
    "name": "ipython",
    "version": 3
   },
   "file_extension": ".py",
   "mimetype": "text/x-python",
   "name": "python",
   "nbconvert_exporter": "python",
   "pygments_lexer": "ipython3",
   "version": "3.10.9"
  }
 },
 "nbformat": 4,
 "nbformat_minor": 5
}
